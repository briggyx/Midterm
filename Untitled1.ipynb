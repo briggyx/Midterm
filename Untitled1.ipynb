{
 "cells": [
  {
   "cell_type": "code",
   "execution_count": 1,
   "id": "78875944",
   "metadata": {},
   "outputs": [],
   "source": [
    "import numpy as np\n",
    "import pandas as pd\n",
    "from tensorflow import keras\n",
    "\n",
    "# Read the data\n",
    "data = pd.read_csv('Final_Training_Data_with_Weather_Trimmed.csv')\n",
    "\n",
    "# Get relevant columns only; not all of these will be used directly in the tensor for training\n",
    "data = data[['julian', 'crs_arr_time', 'crs_dep_time', 'crs_elapsed_time', 'distance', 'arr_delay', 'dep_delay', 'dep_temp', 'dep_rhum',\n",
    "             'dep_prcp', 'dep_wdir', 'dep_wspd', 'dep_pres', 'arr_temp', 'arr_rhum', 'arr_prcp', 'arr_wdir', 'arr_wspd', 'arr_pres',\n",
    "             'cat_ontime','cat_delayed_15','cat_delayed_60','origin','dest','dep_datetime_rounded','arr_datetime_rounded']]\n",
    "\n",
    "data = data[data.cat_delayed_15 == 0]\n",
    "\n",
    "# Reset index\n",
    "data.reset_index(inplace=True)"
   ]
  },
  {
   "cell_type": "code",
   "execution_count": null,
   "id": "ea7fef0f",
   "metadata": {},
   "outputs": [],
   "source": [
    "# Generate one-hot-encoding data frames for origin airport and destination airport categorical data\n",
    "origin_onehot = pd.get_dummies(data.origin)\n",
    "dest_onehot = pd.get_dummies(data.dest)\n",
    "\n",
    "# Prepend O_ or D_ to indicate which type of data each code columns is, in case we need to tell them apart later\n",
    "origin_onehot.columns = [ f'O_{x}' for x in origin_onehot.columns ]\n",
    "dest_onehot.columns = [ f'D_{x}' for x in dest_onehot.columns ]\n",
    "\n",
    "# Extract the label information to be used in training and testing; label is essentially one-hot-encoded already\n",
    "labels = data[['cat_ontime']]\n",
    "\n",
    "# Keep only the the columns for training; these are all the relevant continuous numeric columns\n",
    "tensor = data[['julian', 'crs_arr_time', 'crs_dep_time', 'crs_elapsed_time', 'distance', 'dep_temp', 'dep_rhum', 'dep_prcp',\n",
    "               'dep_wdir', 'dep_wspd', 'dep_pres', 'arr_temp', 'arr_rhum', 'arr_prcp', 'arr_wdir', 'arr_wspd', 'arr_pres']]\n",
    "\n",
    "# Min/max normalize the continuous columns\n",
    "for c in tensor.columns:\n",
    "    tensor[c] = tensor[c] - np.min(tensor[c])\n",
    "    tensor[c] = tensor[c] / np.max(tensor[c])\n",
    "\n",
    "# Merge in the one-hot-encoded airport data\n",
    "tensor = pd.merge(tensor,origin_onehot,left_index=True,right_index=True)\n",
    "tensor = pd.merge(tensor,dest_onehot,left_index=True,right_index=True)\n",
    "\n",
    "# Convert the data and labels to numpy arrays, with dtype=float32 (less memory usage than float64)\n",
    "tensor = tensor.to_numpy(dtype='float32')\n",
    "tensor_labels = labels.to_numpy('float32')\n",
    "\n",
    "# Inspect the dimensions of the data\n",
    "tensor.shape"
   ]
  },
  {
   "cell_type": "code",
   "execution_count": 3,
   "id": "d3f5f4c9",
   "metadata": {},
   "outputs": [
    {
     "data": {
      "text/plain": [
       "(1869023, 1)"
      ]
     },
     "execution_count": 3,
     "metadata": {},
     "output_type": "execute_result"
    }
   ],
   "source": [
    "# Inspect the dimensions of the labels\n",
    "tensor_labels.shape"
   ]
  },
  {
   "cell_type": "code",
   "execution_count": 5,
   "id": "65d9521f",
   "metadata": {},
   "outputs": [],
   "source": [
    "# Define and compile a feed-forward neural network in Keras, with dropout between layers to help prevent over-fitting\n",
    "# Output has 3 dimensions reflecting the 3 categories (ontime, 15 minute delay, 60+ minute delay); activation is softmax such that the three sum to 1.0\n",
    "\n",
    "model = keras.Sequential()\n",
    "model.add(keras.layers.Dense(256, input_shape=(655,)))\n",
    "model.add(keras.layers.Dropout(0.1))\n",
    "model.add(keras.layers.Dense(128))\n",
    "model.add(keras.layers.Dropout(0.1))\n",
    "model.add(keras.layers.Dense(64))\n",
    "model.add(keras.layers.Dropout(0.1))\n",
    "model.add(keras.layers.Dense(1,activation='sigmoid'))\n",
    "\n",
    "# Compile the model with appropriate optimizer, loss function, and test metrics\n",
    "\n",
    "model.compile(optimizer='adam', loss='binary_crossentropy', metrics=['accuracy'])"
   ]
  },
  {
   "cell_type": "code",
   "execution_count": 7,
   "id": "cca5f59f",
   "metadata": {},
   "outputs": [
    {
     "name": "stdout",
     "output_type": "stream",
     "text": [
      "Epoch 1/10\n",
      "160/160 [==============================] - 11s 67ms/step - loss: 0.6244 - accuracy: 0.6502 - val_loss: 0.6223 - val_accuracy: 0.6520\n",
      "Epoch 2/10\n",
      "160/160 [==============================] - 11s 67ms/step - loss: 0.6237 - accuracy: 0.6506 - val_loss: 0.6218 - val_accuracy: 0.6530\n",
      "Epoch 3/10\n",
      "160/160 [==============================] - 11s 66ms/step - loss: 0.6233 - accuracy: 0.6513 - val_loss: 0.6217 - val_accuracy: 0.6532\n",
      "Epoch 4/10\n",
      "160/160 [==============================] - 11s 67ms/step - loss: 0.6231 - accuracy: 0.6514 - val_loss: 0.6216 - val_accuracy: 0.6528\n",
      "Epoch 5/10\n",
      "160/160 [==============================] - 10s 66ms/step - loss: 0.6227 - accuracy: 0.6517 - val_loss: 0.6214 - val_accuracy: 0.6532\n",
      "Epoch 6/10\n",
      "160/160 [==============================] - 11s 67ms/step - loss: 0.6225 - accuracy: 0.6521 - val_loss: 0.6210 - val_accuracy: 0.6535\n",
      "Epoch 7/10\n",
      "160/160 [==============================] - 10s 66ms/step - loss: 0.6223 - accuracy: 0.6523 - val_loss: 0.6208 - val_accuracy: 0.6536\n",
      "Epoch 8/10\n",
      "160/160 [==============================] - 10s 66ms/step - loss: 0.6221 - accuracy: 0.6527 - val_loss: 0.6209 - val_accuracy: 0.6532\n",
      "Epoch 9/10\n",
      "160/160 [==============================] - 10s 65ms/step - loss: 0.6221 - accuracy: 0.6526 - val_loss: 0.6205 - val_accuracy: 0.6539\n",
      "Epoch 10/10\n",
      "160/160 [==============================] - 10s 65ms/step - loss: 0.6218 - accuracy: 0.6529 - val_loss: 0.6205 - val_accuracy: 0.6540\n"
     ]
    }
   ],
   "source": [
    "# Run the training for 10 epochs in batches of 100,000 using the first 900,000 for training and the last 100,000 for validation\n",
    "\n",
    "history = model.fit(tensor[:1600000,:], tensor_labels[:1600000,:],\n",
    "                    validation_data=(tensor[1600000:,:], tensor_labels[1600000:,:]),\n",
    "                    epochs=10,batch_size=10000)"
   ]
  },
  {
   "cell_type": "code",
   "execution_count": 8,
   "id": "7ce4ff71",
   "metadata": {},
   "outputs": [
    {
     "name": "stdout",
     "output_type": "stream",
     "text": [
      "8407/8407 [==============================] - 12s 1ms/step\n"
     ]
    }
   ],
   "source": [
    "predictions = model.predict(tensor[1600000:,:])"
   ]
  },
  {
   "cell_type": "code",
   "execution_count": 10,
   "id": "e8d53b7d",
   "metadata": {},
   "outputs": [
    {
     "name": "stderr",
     "output_type": "stream",
     "text": [
      "C:\\Users\\Matt Stata\\AppData\\Local\\Temp\\ipykernel_8540\\1681343273.py:3: SettingWithCopyWarning: \n",
      "A value is trying to be set on a copy of a slice from a DataFrame.\n",
      "Try using .loc[row_indexer,col_indexer] = value instead\n",
      "\n",
      "See the caveats in the documentation: https://pandas.pydata.org/pandas-docs/stable/user_guide/indexing.html#returning-a-view-versus-a-copy\n",
      "  prediction_df['pred_ontime'] = predictions[:,0]\n"
     ]
    }
   ],
   "source": [
    "prediction_df = data.loc[1600000:,]\n",
    "\n",
    "prediction_df['pred_ontime'] = predictions[:,0]"
   ]
  },
  {
   "cell_type": "code",
   "execution_count": 11,
   "id": "fb844df5",
   "metadata": {},
   "outputs": [],
   "source": [
    "prediction_df.to_csv('Predictions_Binary_Delay60.csv',index=False)"
   ]
  },
  {
   "cell_type": "code",
   "execution_count": 2,
   "id": "7bddbd18",
   "metadata": {},
   "outputs": [
    {
     "data": {
      "text/plain": [
       "[<matplotlib.lines.Line2D at 0x16e7259e3a0>]"
      ]
     },
     "execution_count": 2,
     "metadata": {},
     "output_type": "execute_result"
    },
    {
     "data": {
      "image/png": "[encoded data removed]",
      "text/plain": [
       "<Figure size 640x480 with 1 Axes>"
      ]
     },
     "metadata": {},
     "output_type": "display_data"
    }
   ],
   "source": [
    "import numpy as np\n",
    "import pandas as pd\n",
    "from matplotlib import pyplot as plt\n",
    "\n",
    "prediction_df = pd.read_csv('Predictions_Binary_Delay60.csv')\n",
    "\n",
    "h = plt.hist(prediction_df[prediction_df.cat_ontime == 1].pred_ontime,bins=np.arange(0,1.02,0.02))[0]\n",
    "plt.plot([1/2,1/2],[0,max(h)],color='r')"
   ]
  },
  {
   "cell_type": "code",
   "execution_count": 3,
   "id": "58a306f2",
   "metadata": {},
   "outputs": [
    {
     "data": {
      "text/plain": [
       "[<matplotlib.lines.Line2D at 0x16e00517a00>]"
      ]
     },
     "execution_count": 3,
     "metadata": {},
     "output_type": "execute_result"
    },
    {
     "data": {
      "image/png": "[encoded data removed]",
      "text/plain": [
       "<Figure size 640x480 with 1 Axes>"
      ]
     },
     "metadata": {},
     "output_type": "display_data"
    }
   ],
   "source": [
    "import numpy as np\n",
    "import pandas as pd\n",
    "from matplotlib import pyplot as plt\n",
    "\n",
    "prediction_df = pd.read_csv('Predictions_Binary_Delay60.csv')\n",
    "\n",
    "h = plt.hist(prediction_df[prediction_df.cat_ontime == 0].pred_ontime,bins=np.arange(0,1.02,0.02))[0]\n",
    "plt.plot([1/2,1/2],[0,max(h)],color='r')"
   ]
  }
 ],
 "metadata": {
  "kernelspec": {
   "display_name": "Python 3 (ipykernel)",
   "language": "python",
   "name": "python3"
  },
  "language_info": {
   "codemirror_mode": {
    "name": "ipython",
    "version": 3
   },
   "file_extension": ".py",
   "mimetype": "text/x-python",
   "name": "python",
   "nbconvert_exporter": "python",
   "pygments_lexer": "ipython3",
   "version": "3.9.13"
  }
 },
 "nbformat": 4,
 "nbformat_minor": 5
}
