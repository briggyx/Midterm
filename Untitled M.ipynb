{
 "cells": [
  {
   "cell_type": "code",
   "execution_count": 37,
   "id": "65e7cd0e",
   "metadata": {},
   "outputs": [],
   "source": [
    "import numpy as np\n",
    "import pandas as pd\n",
    "from tensorflow import keras\n",
    "\n",
    "# Read the data\n",
    "data = pd.read_csv('Final_Training_Data_with_Weather_Trimmed.csv')\n",
    "\n",
    "# Get relevant columns only; not all of these will be used directly in the tensor for training\n",
    "data = data[['julian', 'crs_arr_time', 'crs_dep_time', 'crs_elapsed_time', 'distance', 'arr_delay', 'dep_delay', 'dep_temp', 'dep_rhum',\n",
    "             'dep_prcp', 'dep_wdir', 'dep_wspd', 'dep_pres', 'arr_temp', 'arr_rhum', 'arr_prcp', 'arr_wdir', 'arr_wspd', 'arr_pres',\n",
    "             'cat_ontime','cat_delayed_15','cat_delayed_60','origin','dest','dep_datetime_rounded','arr_datetime_rounded']]\n",
    "\n",
    "# Sample one million rows\n",
    "data = data.sample(1000000)\n",
    "\n",
    "# Reset index\n",
    "data.reset_index(inplace=True)"
   ]
  },
  {
   "cell_type": "code",
   "execution_count": null,
   "id": "32732b2b",
   "metadata": {},
   "outputs": [],
   "source": [
    "# Generate one-hot-encoding data frames for origin airport and destination airport categorical data\n",
    "origin_onehot = pd.get_dummies(data.origin)\n",
    "dest_onehot = pd.get_dummies(data.dest)\n",
    "\n",
    "# Prepend O_ or D_ to indicate which type of data each code columns is, in case we need to tell them apart later\n",
    "origin_onehot.columns = [ f'O_{x}' for x in origin_onehot.columns ]\n",
    "dest_onehot.columns = [ f'D_{x}' for x in dest_onehot.columns ]\n",
    "\n",
    "# Extract the label information to be used in training and testing; label is essentially one-hot-encoded already\n",
    "labels = data[['cat_ontime','cat_delayed_15','cat_delayed_60']]\n",
    "\n",
    "# Keep only the the columns for training; these are all the relevant continuous numeric columns\n",
    "tensor = data[['julian', 'crs_arr_time', 'crs_dep_time', 'crs_elapsed_time', 'distance', 'dep_temp', 'dep_rhum', 'dep_prcp',\n",
    "               'dep_wdir', 'dep_wspd', 'dep_pres', 'arr_temp', 'arr_rhum', 'arr_prcp', 'arr_wdir', 'arr_wspd', 'arr_pres']]\n",
    "\n",
    "# Min/max normalize the continuous columns\n",
    "for c in tensor.columns:\n",
    "    tensor[c] = tensor[c] - np.min(tensor[c])\n",
    "    tensor[c] = tensor[c] / np.max(tensor[c])\n",
    "\n",
    "# Merge in the one-hot-encoded airport data\n",
    "tensor = pd.merge(tensor,origin_onehot,left_index=True,right_index=True)\n",
    "tensor = pd.merge(tensor,dest_onehot,left_index=True,right_index=True)\n",
    "\n",
    "# Convert the data and labels to numpy arrays, with dtype=float32 (less memory usage than float64)\n",
    "tensor = tensor.to_numpy(dtype='float32')\n",
    "tensor_labels = labels.to_numpy('float32')\n",
    "\n",
    "# Inspect the dimensions of the data\n",
    "tensor.shape"
   ]
  },
  {
   "cell_type": "code",
   "execution_count": 39,
   "id": "29da4e14",
   "metadata": {},
   "outputs": [
    {
     "data": {
      "text/plain": [
       "(1000000, 3)"
      ]
     },
     "execution_count": 39,
     "metadata": {},
     "output_type": "execute_result"
    }
   ],
   "source": [
    "# Inspect the dimensions of the labels\n",
    "tensor_labels.shape"
   ]
  },
  {
   "cell_type": "code",
   "execution_count": 40,
   "id": "ce370b78",
   "metadata": {},
   "outputs": [],
   "source": [
    "# Define and compile a feed-forward neural network in Keras, with dropout between layers to help prevent over-fitting\n",
    "# Output has 3 dimensions reflecting the 3 categories (ontime, 15 minute delay, 60+ minute delay); activation is softmax such that the three sum to 1.0\n",
    "\n",
    "model = keras.Sequential()\n",
    "model.add(keras.layers.Dense(256, input_shape=(653,)))\n",
    "model.add(keras.layers.Dropout(0.1))\n",
    "model.add(keras.layers.Dense(128))\n",
    "model.add(keras.layers.Dropout(0.1))\n",
    "model.add(keras.layers.Dense(64))\n",
    "model.add(keras.layers.Dropout(0.1))\n",
    "model.add(keras.layers.Dense(3,activation='softmax'))\n",
    "\n",
    "# Compile the model with appropriate optimizer, loss function, and test metrics\n",
    "\n",
    "model.compile(optimizer='adam', loss='categorical_crossentropy', metrics=['accuracy'])"
   ]
  },
  {
   "cell_type": "code",
   "execution_count": 41,
   "id": "5d1218af",
   "metadata": {},
   "outputs": [
    {
     "name": "stdout",
     "output_type": "stream",
     "text": [
      "Epoch 1/10\n",
      "90/90 [==============================] - 9s 90ms/step - loss: 1.0613 - accuracy: 0.4254 - val_loss: 1.0491 - val_accuracy: 0.4408\n",
      "Epoch 2/10\n",
      "90/90 [==============================] - 7s 82ms/step - loss: 1.0503 - accuracy: 0.4416 - val_loss: 1.0486 - val_accuracy: 0.4430\n",
      "Epoch 3/10\n",
      "90/90 [==============================] - 7s 76ms/step - loss: 1.0491 - accuracy: 0.4428 - val_loss: 1.0481 - val_accuracy: 0.4445\n",
      "Epoch 4/10\n",
      "90/90 [==============================] - 7s 78ms/step - loss: 1.0482 - accuracy: 0.4437 - val_loss: 1.0476 - val_accuracy: 0.4442\n",
      "Epoch 5/10\n",
      "90/90 [==============================] - 7s 78ms/step - loss: 1.0478 - accuracy: 0.4440 - val_loss: 1.0473 - val_accuracy: 0.4455\n",
      "Epoch 6/10\n",
      "90/90 [==============================] - 7s 78ms/step - loss: 1.0476 - accuracy: 0.4451 - val_loss: 1.0477 - val_accuracy: 0.4429\n",
      "Epoch 7/10\n",
      "90/90 [==============================] - 7s 78ms/step - loss: 1.0471 - accuracy: 0.4450 - val_loss: 1.0472 - val_accuracy: 0.4445\n",
      "Epoch 8/10\n",
      "90/90 [==============================] - 7s 78ms/step - loss: 1.0470 - accuracy: 0.4457 - val_loss: 1.0471 - val_accuracy: 0.4454\n",
      "Epoch 9/10\n",
      "90/90 [==============================] - 7s 76ms/step - loss: 1.0469 - accuracy: 0.4454 - val_loss: 1.0474 - val_accuracy: 0.4455\n",
      "Epoch 10/10\n",
      "90/90 [==============================] - 7s 79ms/step - loss: 1.0466 - accuracy: 0.4462 - val_loss: 1.0469 - val_accuracy: 0.4451\n"
     ]
    }
   ],
   "source": [
    "# Run the training for 10 epochs in batches of 100,000 using the first 900,000 for training and the last 100,000 for validation\n",
    "\n",
    "history = model.fit(tensor[:900000,:], tensor_labels[:900000,:],\n",
    "                    validation_data=(tensor[900000:,:], tensor_labels[900000:,:]),\n",
    "                    epochs=10,batch_size=10000)"
   ]
  },
  {
   "cell_type": "code",
   "execution_count": 42,
   "id": "81dd937d",
   "metadata": {},
   "outputs": [
    {
     "name": "stdout",
     "output_type": "stream",
     "text": [
      "3125/3125 [==============================] - 4s 1ms/step\n"
     ]
    }
   ],
   "source": [
    "predictions = model.predict(tensor[900000:,:])"
   ]
  },
  {
   "cell_type": "code",
   "execution_count": 43,
   "id": "be037393",
   "metadata": {},
   "outputs": [
    {
     "data": {
      "text/plain": [
       "(100000, 3)"
      ]
     },
     "execution_count": 43,
     "metadata": {},
     "output_type": "execute_result"
    }
   ],
   "source": [
    "predictions.shape"
   ]
  },
  {
   "cell_type": "code",
   "execution_count": 44,
   "id": "bf08cf3b",
   "metadata": {},
   "outputs": [
    {
     "data": {
      "text/plain": [
       "array([[0.51810384, 0.3778355 , 0.10406068],\n",
       "       [0.43415198, 0.36893764, 0.19691043],\n",
       "       [0.23235646, 0.34133127, 0.42631227],\n",
       "       ...,\n",
       "       [0.56705487, 0.29622233, 0.13672276],\n",
       "       [0.34094965, 0.361204  , 0.29784632],\n",
       "       [0.46622276, 0.33956486, 0.19421239]], dtype=float32)"
      ]
     },
     "execution_count": 44,
     "metadata": {},
     "output_type": "execute_result"
    }
   ],
   "source": [
    "predictions"
   ]
  },
  {
   "cell_type": "code",
   "execution_count": 45,
   "id": "36f7c160",
   "metadata": {},
   "outputs": [],
   "source": [
    "prediction_df = data.reset_index()\n",
    "\n",
    "prediction_df = prediction_df.loc[900000:,]\n",
    "\n",
    "prediction_df['pred_ontime'] = predictions[:,0]\n",
    "prediction_df['pred_delayed_15'] = predictions[:,1]\n",
    "prediction_df['pred_delayed_60'] = predictions[:,2]"
   ]
  },
  {
   "cell_type": "code",
   "execution_count": 46,
   "id": "841ce762",
   "metadata": {},
   "outputs": [
    {
     "data": {
      "text/html": [
       "<div>\n",
       "<style scoped>\n",
       "    .dataframe tbody tr th:only-of-type {\n",
       "        vertical-align: middle;\n",
       "    }\n",
       "\n",
       "    .dataframe tbody tr th {\n",
       "        vertical-align: top;\n",
       "    }\n",
       "\n",
       "    .dataframe thead th {\n",
       "        text-align: right;\n",
       "    }\n",
       "</style>\n",
       "<table border=\"1\" class=\"dataframe\">\n",
       "  <thead>\n",
       "    <tr style=\"text-align: right;\">\n",
       "      <th></th>\n",
       "      <th>level_0</th>\n",
       "      <th>index</th>\n",
       "      <th>julian</th>\n",
       "      <th>crs_arr_time</th>\n",
       "      <th>crs_dep_time</th>\n",
       "      <th>crs_elapsed_time</th>\n",
       "      <th>distance</th>\n",
       "      <th>arr_delay</th>\n",
       "      <th>dep_delay</th>\n",
       "      <th>dep_temp</th>\n",
       "      <th>...</th>\n",
       "      <th>cat_ontime</th>\n",
       "      <th>cat_delayed_15</th>\n",
       "      <th>cat_delayed_60</th>\n",
       "      <th>origin</th>\n",
       "      <th>dest</th>\n",
       "      <th>dep_datetime_rounded</th>\n",
       "      <th>arr_datetime_rounded</th>\n",
       "      <th>pred_ontime</th>\n",
       "      <th>pred_delayed_15</th>\n",
       "      <th>pred_delayed_60</th>\n",
       "    </tr>\n",
       "  </thead>\n",
       "  <tbody>\n",
       "    <tr>\n",
       "      <th>900000</th>\n",
       "      <td>900000</td>\n",
       "      <td>970384</td>\n",
       "      <td>318</td>\n",
       "      <td>866</td>\n",
       "      <td>688</td>\n",
       "      <td>178.0</td>\n",
       "      <td>978</td>\n",
       "      <td>76.0</td>\n",
       "      <td>84.0</td>\n",
       "      <td>16.1</td>\n",
       "      <td>...</td>\n",
       "      <td>0.0</td>\n",
       "      <td>0.0</td>\n",
       "      <td>1.0</td>\n",
       "      <td>SNA</td>\n",
       "      <td>SEA</td>\n",
       "      <td>2018-11-14 11:00:00</td>\n",
       "      <td>2018-11-14 14:00:00</td>\n",
       "      <td>0.518104</td>\n",
       "      <td>0.377836</td>\n",
       "      <td>0.104061</td>\n",
       "    </tr>\n",
       "    <tr>\n",
       "      <th>900001</th>\n",
       "      <td>900001</td>\n",
       "      <td>321836</td>\n",
       "      <td>302</td>\n",
       "      <td>630</td>\n",
       "      <td>550</td>\n",
       "      <td>80.0</td>\n",
       "      <td>236</td>\n",
       "      <td>26.0</td>\n",
       "      <td>-7.0</td>\n",
       "      <td>18.3</td>\n",
       "      <td>...</td>\n",
       "      <td>0.0</td>\n",
       "      <td>1.0</td>\n",
       "      <td>0.0</td>\n",
       "      <td>LAS</td>\n",
       "      <td>LAX</td>\n",
       "      <td>2018-10-29 09:00:00</td>\n",
       "      <td>2018-10-29 10:00:00</td>\n",
       "      <td>0.434152</td>\n",
       "      <td>0.368938</td>\n",
       "      <td>0.196910</td>\n",
       "    </tr>\n",
       "    <tr>\n",
       "      <th>900002</th>\n",
       "      <td>900002</td>\n",
       "      <td>1220384</td>\n",
       "      <td>275</td>\n",
       "      <td>941</td>\n",
       "      <td>720</td>\n",
       "      <td>161.0</td>\n",
       "      <td>1005</td>\n",
       "      <td>98.0</td>\n",
       "      <td>82.0</td>\n",
       "      <td>15.0</td>\n",
       "      <td>...</td>\n",
       "      <td>0.0</td>\n",
       "      <td>0.0</td>\n",
       "      <td>1.0</td>\n",
       "      <td>ORD</td>\n",
       "      <td>MCO</td>\n",
       "      <td>2019-10-02 12:00:00</td>\n",
       "      <td>2019-10-02 16:00:00</td>\n",
       "      <td>0.232356</td>\n",
       "      <td>0.341331</td>\n",
       "      <td>0.426312</td>\n",
       "    </tr>\n",
       "    <tr>\n",
       "      <th>900003</th>\n",
       "      <td>900003</td>\n",
       "      <td>371780</td>\n",
       "      <td>289</td>\n",
       "      <td>643</td>\n",
       "      <td>550</td>\n",
       "      <td>153.0</td>\n",
       "      <td>844</td>\n",
       "      <td>19.0</td>\n",
       "      <td>-2.0</td>\n",
       "      <td>8.3</td>\n",
       "      <td>...</td>\n",
       "      <td>0.0</td>\n",
       "      <td>1.0</td>\n",
       "      <td>0.0</td>\n",
       "      <td>IND</td>\n",
       "      <td>IAH</td>\n",
       "      <td>2019-10-16 09:00:00</td>\n",
       "      <td>2019-10-16 11:00:00</td>\n",
       "      <td>0.388052</td>\n",
       "      <td>0.332691</td>\n",
       "      <td>0.279257</td>\n",
       "    </tr>\n",
       "    <tr>\n",
       "      <th>900004</th>\n",
       "      <td>900004</td>\n",
       "      <td>1946826</td>\n",
       "      <td>155</td>\n",
       "      <td>1251</td>\n",
       "      <td>1173</td>\n",
       "      <td>78.0</td>\n",
       "      <td>345</td>\n",
       "      <td>5.0</td>\n",
       "      <td>-4.0</td>\n",
       "      <td>34.4</td>\n",
       "      <td>...</td>\n",
       "      <td>1.0</td>\n",
       "      <td>0.0</td>\n",
       "      <td>0.0</td>\n",
       "      <td>LAS</td>\n",
       "      <td>RNO</td>\n",
       "      <td>2019-06-04 20:00:00</td>\n",
       "      <td>2019-06-04 21:00:00</td>\n",
       "      <td>0.318952</td>\n",
       "      <td>0.362476</td>\n",
       "      <td>0.318572</td>\n",
       "    </tr>\n",
       "    <tr>\n",
       "      <th>...</th>\n",
       "      <td>...</td>\n",
       "      <td>...</td>\n",
       "      <td>...</td>\n",
       "      <td>...</td>\n",
       "      <td>...</td>\n",
       "      <td>...</td>\n",
       "      <td>...</td>\n",
       "      <td>...</td>\n",
       "      <td>...</td>\n",
       "      <td>...</td>\n",
       "      <td>...</td>\n",
       "      <td>...</td>\n",
       "      <td>...</td>\n",
       "      <td>...</td>\n",
       "      <td>...</td>\n",
       "      <td>...</td>\n",
       "      <td>...</td>\n",
       "      <td>...</td>\n",
       "      <td>...</td>\n",
       "      <td>...</td>\n",
       "      <td>...</td>\n",
       "    </tr>\n",
       "    <tr>\n",
       "      <th>999995</th>\n",
       "      <td>999995</td>\n",
       "      <td>1960392</td>\n",
       "      <td>297</td>\n",
       "      <td>1065</td>\n",
       "      <td>962</td>\n",
       "      <td>163.0</td>\n",
       "      <td>783</td>\n",
       "      <td>101.0</td>\n",
       "      <td>102.0</td>\n",
       "      <td>18.3</td>\n",
       "      <td>...</td>\n",
       "      <td>0.0</td>\n",
       "      <td>0.0</td>\n",
       "      <td>1.0</td>\n",
       "      <td>BDL</td>\n",
       "      <td>ORD</td>\n",
       "      <td>2019-10-24 16:00:00</td>\n",
       "      <td>2019-10-24 18:00:00</td>\n",
       "      <td>0.303505</td>\n",
       "      <td>0.351643</td>\n",
       "      <td>0.344852</td>\n",
       "    </tr>\n",
       "    <tr>\n",
       "      <th>999996</th>\n",
       "      <td>999996</td>\n",
       "      <td>887917</td>\n",
       "      <td>143</td>\n",
       "      <td>670</td>\n",
       "      <td>572</td>\n",
       "      <td>98.0</td>\n",
       "      <td>526</td>\n",
       "      <td>5.0</td>\n",
       "      <td>-2.0</td>\n",
       "      <td>23.3</td>\n",
       "      <td>...</td>\n",
       "      <td>1.0</td>\n",
       "      <td>0.0</td>\n",
       "      <td>0.0</td>\n",
       "      <td>ATL</td>\n",
       "      <td>PIT</td>\n",
       "      <td>2019-05-23 10:00:00</td>\n",
       "      <td>2019-05-23 11:00:00</td>\n",
       "      <td>0.549271</td>\n",
       "      <td>0.278870</td>\n",
       "      <td>0.171859</td>\n",
       "    </tr>\n",
       "    <tr>\n",
       "      <th>999997</th>\n",
       "      <td>999997</td>\n",
       "      <td>962796</td>\n",
       "      <td>97</td>\n",
       "      <td>546</td>\n",
       "      <td>459</td>\n",
       "      <td>87.0</td>\n",
       "      <td>355</td>\n",
       "      <td>1.0</td>\n",
       "      <td>4.0</td>\n",
       "      <td>21.7</td>\n",
       "      <td>...</td>\n",
       "      <td>1.0</td>\n",
       "      <td>0.0</td>\n",
       "      <td>0.0</td>\n",
       "      <td>PHX</td>\n",
       "      <td>LGB</td>\n",
       "      <td>2019-04-07 08:00:00</td>\n",
       "      <td>2019-04-07 09:00:00</td>\n",
       "      <td>0.567055</td>\n",
       "      <td>0.296222</td>\n",
       "      <td>0.136723</td>\n",
       "    </tr>\n",
       "    <tr>\n",
       "      <th>999998</th>\n",
       "      <td>999998</td>\n",
       "      <td>2335078</td>\n",
       "      <td>136</td>\n",
       "      <td>1145</td>\n",
       "      <td>1040</td>\n",
       "      <td>165.0</td>\n",
       "      <td>997</td>\n",
       "      <td>26.0</td>\n",
       "      <td>32.0</td>\n",
       "      <td>29.4</td>\n",
       "      <td>...</td>\n",
       "      <td>0.0</td>\n",
       "      <td>1.0</td>\n",
       "      <td>0.0</td>\n",
       "      <td>TPA</td>\n",
       "      <td>MDW</td>\n",
       "      <td>2019-05-16 17:00:00</td>\n",
       "      <td>2019-05-16 19:00:00</td>\n",
       "      <td>0.340950</td>\n",
       "      <td>0.361204</td>\n",
       "      <td>0.297846</td>\n",
       "    </tr>\n",
       "    <tr>\n",
       "      <th>999999</th>\n",
       "      <td>999999</td>\n",
       "      <td>686809</td>\n",
       "      <td>222</td>\n",
       "      <td>505</td>\n",
       "      <td>450</td>\n",
       "      <td>115.0</td>\n",
       "      <td>651</td>\n",
       "      <td>-3.0</td>\n",
       "      <td>-1.0</td>\n",
       "      <td>30.6</td>\n",
       "      <td>...</td>\n",
       "      <td>1.0</td>\n",
       "      <td>0.0</td>\n",
       "      <td>0.0</td>\n",
       "      <td>DAL</td>\n",
       "      <td>DEN</td>\n",
       "      <td>2019-08-10 08:00:00</td>\n",
       "      <td>2019-08-10 08:00:00</td>\n",
       "      <td>0.466223</td>\n",
       "      <td>0.339565</td>\n",
       "      <td>0.194212</td>\n",
       "    </tr>\n",
       "  </tbody>\n",
       "</table>\n",
       "<p>100000 rows × 31 columns</p>\n",
       "</div>"
      ],
      "text/plain": [
       "        level_0    index  julian  crs_arr_time  crs_dep_time  \\\n",
       "900000   900000   970384     318           866           688   \n",
       "900001   900001   321836     302           630           550   \n",
       "900002   900002  1220384     275           941           720   \n",
       "900003   900003   371780     289           643           550   \n",
       "900004   900004  1946826     155          1251          1173   \n",
       "...         ...      ...     ...           ...           ...   \n",
       "999995   999995  1960392     297          1065           962   \n",
       "999996   999996   887917     143           670           572   \n",
       "999997   999997   962796      97           546           459   \n",
       "999998   999998  2335078     136          1145          1040   \n",
       "999999   999999   686809     222           505           450   \n",
       "\n",
       "        crs_elapsed_time  distance  arr_delay  dep_delay  dep_temp  ...  \\\n",
       "900000             178.0       978       76.0       84.0      16.1  ...   \n",
       "900001              80.0       236       26.0       -7.0      18.3  ...   \n",
       "900002             161.0      1005       98.0       82.0      15.0  ...   \n",
       "900003             153.0       844       19.0       -2.0       8.3  ...   \n",
       "900004              78.0       345        5.0       -4.0      34.4  ...   \n",
       "...                  ...       ...        ...        ...       ...  ...   \n",
       "999995             163.0       783      101.0      102.0      18.3  ...   \n",
       "999996              98.0       526        5.0       -2.0      23.3  ...   \n",
       "999997              87.0       355        1.0        4.0      21.7  ...   \n",
       "999998             165.0       997       26.0       32.0      29.4  ...   \n",
       "999999             115.0       651       -3.0       -1.0      30.6  ...   \n",
       "\n",
       "        cat_ontime  cat_delayed_15  cat_delayed_60  origin  dest  \\\n",
       "900000         0.0             0.0             1.0     SNA   SEA   \n",
       "900001         0.0             1.0             0.0     LAS   LAX   \n",
       "900002         0.0             0.0             1.0     ORD   MCO   \n",
       "900003         0.0             1.0             0.0     IND   IAH   \n",
       "900004         1.0             0.0             0.0     LAS   RNO   \n",
       "...            ...             ...             ...     ...   ...   \n",
       "999995         0.0             0.0             1.0     BDL   ORD   \n",
       "999996         1.0             0.0             0.0     ATL   PIT   \n",
       "999997         1.0             0.0             0.0     PHX   LGB   \n",
       "999998         0.0             1.0             0.0     TPA   MDW   \n",
       "999999         1.0             0.0             0.0     DAL   DEN   \n",
       "\n",
       "        dep_datetime_rounded  arr_datetime_rounded  pred_ontime  \\\n",
       "900000   2018-11-14 11:00:00   2018-11-14 14:00:00     0.518104   \n",
       "900001   2018-10-29 09:00:00   2018-10-29 10:00:00     0.434152   \n",
       "900002   2019-10-02 12:00:00   2019-10-02 16:00:00     0.232356   \n",
       "900003   2019-10-16 09:00:00   2019-10-16 11:00:00     0.388052   \n",
       "900004   2019-06-04 20:00:00   2019-06-04 21:00:00     0.318952   \n",
       "...                      ...                   ...          ...   \n",
       "999995   2019-10-24 16:00:00   2019-10-24 18:00:00     0.303505   \n",
       "999996   2019-05-23 10:00:00   2019-05-23 11:00:00     0.549271   \n",
       "999997   2019-04-07 08:00:00   2019-04-07 09:00:00     0.567055   \n",
       "999998   2019-05-16 17:00:00   2019-05-16 19:00:00     0.340950   \n",
       "999999   2019-08-10 08:00:00   2019-08-10 08:00:00     0.466223   \n",
       "\n",
       "        pred_delayed_15  pred_delayed_60  \n",
       "900000         0.377836         0.104061  \n",
       "900001         0.368938         0.196910  \n",
       "900002         0.341331         0.426312  \n",
       "900003         0.332691         0.279257  \n",
       "900004         0.362476         0.318572  \n",
       "...                 ...              ...  \n",
       "999995         0.351643         0.344852  \n",
       "999996         0.278870         0.171859  \n",
       "999997         0.296222         0.136723  \n",
       "999998         0.361204         0.297846  \n",
       "999999         0.339565         0.194212  \n",
       "\n",
       "[100000 rows x 31 columns]"
      ]
     },
     "execution_count": 46,
     "metadata": {},
     "output_type": "execute_result"
    }
   ],
   "source": [
    "prediction_df"
   ]
  },
  {
   "cell_type": "code",
   "execution_count": 48,
   "id": "cae3d2dc",
   "metadata": {},
   "outputs": [],
   "source": [
    "prediction_df.to_csv('Predictions.csv',index=False)"
   ]
  },
  {
   "cell_type": "code",
   "execution_count": 2,
   "id": "dd33673e",
   "metadata": {},
   "outputs": [],
   "source": []
  },
  {
   "cell_type": "code",
   "execution_count": 23,
   "id": "e65b668a",
   "metadata": {},
   "outputs": [
    {
     "data": {
      "text/plain": [
       "[<matplotlib.lines.Line2D at 0x15fb50e77f0>]"
      ]
     },
     "execution_count": 23,
     "metadata": {},
     "output_type": "execute_result"
    },
    {
     "data": {
      "image/png": "[encoded data removed]",
      "text/plain": [
       "<Figure size 640x480 with 1 Axes>"
      ]
     },
     "metadata": {},
     "output_type": "display_data"
    }
   ],
   "source": [
    "import numpy as np\n",
    "import pandas as pd\n",
    "from matplotlib import pyplot as plt\n",
    "\n",
    "prediction_df = pd.read_csv('Predictions.csv')\n",
    "\n",
    "h = plt.hist(prediction_df[prediction_df.cat_ontime == 1].pred_ontime,bins=np.arange(0,1.02,0.02))[0]\n",
    "plt.plot([1/3,1/3],[0,max(h)],color='r')"
   ]
  },
  {
   "cell_type": "code",
   "execution_count": 20,
   "id": "a435040a",
   "metadata": {},
   "outputs": [
    {
     "data": {
      "text/plain": [
       "array([0.000e+00, 0.000e+00, 9.000e+00, 2.300e+01, 5.900e+01, 1.340e+02,\n",
       "       2.980e+02, 4.270e+02, 6.330e+02, 8.750e+02, 1.133e+03, 1.344e+03,\n",
       "       1.503e+03, 1.702e+03, 1.918e+03, 1.995e+03, 2.055e+03, 2.107e+03,\n",
       "       2.019e+03, 1.984e+03, 1.922e+03, 1.791e+03, 1.663e+03, 1.453e+03,\n",
       "       1.311e+03, 1.090e+03, 8.210e+02, 7.350e+02, 5.220e+02, 4.490e+02,\n",
       "       3.120e+02, 2.290e+02, 1.560e+02, 1.350e+02, 1.010e+02, 7.700e+01,\n",
       "       6.500e+01, 6.000e+01, 5.900e+01, 5.100e+01, 3.500e+01, 2.900e+01,\n",
       "       2.700e+01, 1.100e+01, 2.000e+00, 0.000e+00, 0.000e+00, 0.000e+00,\n",
       "       0.000e+00, 0.000e+00])"
      ]
     },
     "execution_count": 20,
     "metadata": {},
     "output_type": "execute_result"
    }
   ],
   "source": []
  },
  {
   "cell_type": "code",
   "execution_count": 24,
   "id": "019dc335",
   "metadata": {},
   "outputs": [
    {
     "data": {
      "text/plain": [
       "[<matplotlib.lines.Line2D at 0x15fb47e1580>]"
      ]
     },
     "execution_count": 24,
     "metadata": {},
     "output_type": "execute_result"
    },
    {
     "data": {
      "image/png": "[encoded data removed]",
      "text/plain": [
       "<Figure size 640x480 with 1 Axes>"
      ]
     },
     "metadata": {},
     "output_type": "display_data"
    }
   ],
   "source": [
    "h = plt.hist(prediction_df[prediction_df.cat_delayed_15 == 1].pred_delayed_15,bins=np.arange(0,1.02,0.02))[0]\n",
    "plt.plot([1/3,1/3],[0,max(h)],color='r')"
   ]
  },
  {
   "cell_type": "code",
   "execution_count": 25,
   "id": "a25bd406",
   "metadata": {},
   "outputs": [
    {
     "data": {
      "text/plain": [
       "[<matplotlib.lines.Line2D at 0x15fb49a21c0>]"
      ]
     },
     "execution_count": 25,
     "metadata": {},
     "output_type": "execute_result"
    },
    {
     "data": {
      "image/png": "[encoded data removed]",
      "text/plain": [
       "<Figure size 640x480 with 1 Axes>"
      ]
     },
     "metadata": {},
     "output_type": "display_data"
    }
   ],
   "source": [
    "h = plt.hist(prediction_df[prediction_df.cat_delayed_60 == 1].pred_delayed_60,bins=np.arange(0,1.02,0.02))[0]\n",
    "plt.plot([1/3,1/3],[0,max(h)],color='r')"
   ]
  },
  {
   "cell_type": "code",
   "execution_count": null,
   "id": "6346a5c3",
   "metadata": {},
   "outputs": [],
   "source": []
  },
  {
   "cell_type": "code",
   "execution_count": null,
   "id": "949fa5c5",
   "metadata": {},
   "outputs": [],
   "source": []
  },
  {
   "cell_type": "code",
   "execution_count": null,
   "id": "90230ebd",
   "metadata": {},
   "outputs": [],
   "source": []
  },
  {
   "cell_type": "code",
   "execution_count": null,
   "id": "5a81732c",
   "metadata": {},
   "outputs": [],
   "source": [
    "data = pd.read_csv('Final_Training_Data_with_Weather_Trimmed.csv')"
   ]
  },
  {
   "cell_type": "code",
   "execution_count": null,
   "id": "8c5e9d5c",
   "metadata": {},
   "outputs": [],
   "source": [
    "data.columns"
   ]
  },
  {
   "cell_type": "code",
   "execution_count": null,
   "id": "76a11706",
   "metadata": {},
   "outputs": [],
   "source": []
  },
  {
   "cell_type": "code",
   "execution_count": null,
   "id": "8c245b39",
   "metadata": {},
   "outputs": [],
   "source": [
    "matrix = data[['julian', 'distance', 'crs_dep_time', 'crs_arr_time', 'crs_elapsed_time', 'dep_temp', 'dep_rhum', 'dep_prcp', 'dep_wdir',\n",
    "               'dep_wspd', 'dep_pres', 'arr_temp', 'arr_rhum', 'arr_prcp', 'arr_wdir', 'arr_wspd', 'arr_pres']]\n",
    "\n",
    "for c in matrix.columns:\n",
    "    matrix.loc[:,c] = matrix[c] - np.min(matrix[c])\n",
    "    matrix.loc[:,c] = matrix[c] / np.max(matrix[c])"
   ]
  },
  {
   "cell_type": "code",
   "execution_count": null,
   "id": "2e03ea0a",
   "metadata": {},
   "outputs": [],
   "source": [
    "matrix"
   ]
  }
 ],
 "metadata": {
  "kernelspec": {
   "display_name": "Python 3 (ipykernel)",
   "language": "python",
   "name": "python3"
  },
  "language_info": {
   "codemirror_mode": {
    "name": "ipython",
    "version": 3
   },
   "file_extension": ".py",
   "mimetype": "text/x-python",
   "name": "python",
   "nbconvert_exporter": "python",
   "pygments_lexer": "ipython3",
   "version": "3.9.13"
  }
 },
 "nbformat": 4,
 "nbformat_minor": 5
}
